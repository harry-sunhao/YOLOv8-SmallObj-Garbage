{
  "cells": [
    {
      "cell_type": "markdown",
      "metadata": {
        "id": "FyRdDYkqAKN4"
      },
      "source": [
        "## Before you start\n",
        "\n",
        "Let's make sure that we have access to GPU. We can use `nvidia-smi` command to do that. In case of any problems navigate to `Edit` -> `Notebook settings` -> `Hardware accelerator`, set it to `GPU`, and then click `Save`."
      ]
    },
    {
      "cell_type": "code",
      "execution_count": null,
      "metadata": {
        "id": "Y8cDtxLIBHgQ"
      },
      "outputs": [],
      "source": [
        "!nvidia-smi"
      ]
    },
    {
      "cell_type": "markdown",
      "source": [
        "This is my project path, you need to change your path before run it.\\\n",
        "And the KMP is my computer setting, you could not to change it."
      ],
      "metadata": {
        "id": "CHyfoepi9I_b"
      }
    },
    {
      "cell_type": "code",
      "execution_count": null,
      "metadata": {
        "id": "CjpPg4mGKc1v"
      },
      "outputs": [],
      "source": [
        "import os\n",
        "HOME = \"D:\\Document\\Study\\SFU\\CMPT732\\YOLOv8-SmallObj-Garbage\"\n",
        "print(HOME)\n",
        "os.chdir(HOME)\n",
        "os.environ['KMP_DUPLICATE_LIB_OK'] = 'TRUE'\n"
      ]
    },
    {
      "cell_type": "markdown",
      "metadata": {
        "id": "3C3EO_2zNChu"
      },
      "source": [
        "## Check the YOLO status\n",
        "\n",
        "pip show is check the yolo is install successful"
      ]
    },
    {
      "cell_type": "code",
      "source": [
        "!pip show ultralytics"
      ],
      "metadata": {
        "id": "DbcdOeR3nvCv"
      },
      "execution_count": null,
      "outputs": []
    },
    {
      "cell_type": "markdown",
      "source": [
        "If yolo is not install,please run blow section."
      ],
      "metadata": {
        "id": "FFWO8ZAdOR-J"
      }
    },
    {
      "cell_type": "code",
      "execution_count": null,
      "metadata": {
        "id": "iVvaIYEEPOty"
      },
      "outputs": [],
      "source": [
        "# Git clone method (for development)\n",
        "\n",
        "%cd {HOME}/ultralytics\n",
        "!pip install -e ."
      ]
    },
    {
      "cell_type": "code",
      "execution_count": null,
      "metadata": {
        "id": "VOEYrlBoP9-E",
        "colab": {
          "base_uri": "https://localhost:8080/"
        },
        "outputId": "39d3ab17-c9b0-4759-ce62-0876b8d6d27d"
      },
      "outputs": [
        {
          "output_type": "stream",
          "name": "stderr",
          "text": [
            "Ultralytics YOLOv8.0.196  Python-3.8.16 torch-1.13.1+cu116 CUDA:0 (NVIDIA GeForce RTX 4090, 24564MiB)\n",
            "Setup complete  (32 CPUs, 95.7 GB RAM, 1272.7/1713.0 GB disk)\n"
          ]
        }
      ],
      "source": [
        "from ultralytics import YOLO\n",
        "from IPython.display import display, Image\n",
        "from IPython import display\n",
        "import ultralytics\n",
        "\n",
        "display.clear_output()\n",
        "ultralytics.checks()"
      ]
    },
    {
      "cell_type": "markdown",
      "source": [
        "Create the yaml file"
      ],
      "metadata": {
        "id": "iBwevOeW9sb-"
      }
    },
    {
      "cell_type": "code",
      "source": [
        "import yaml\n",
        "\n",
        "data_yaml = dict(\n",
        "    train ='TACO-2\\\\train',\n",
        "    val ='TACO-2\\\\valid',\n",
        "    test='TACO-2\\\\test',\n",
        "    nc =18,\n",
        "    names =['Aluminium foil', 'Bottle cap', 'Bottle', 'Broken glass', 'Can',\n",
        "            'Carton', 'Cigarette', 'Cup', 'Lid', 'Other litter', 'Other plastic',\n",
        "            'Paper', 'Plastic bag - wrapper', 'Plastic container', 'Pop tab',\n",
        "            'Straw', 'Styrofoam piece', 'Unlabeled litter']\n",
        ")\n",
        "\n",
        "with open('data.yaml', 'w') as outfile:\n",
        "    yaml.dump(data_yaml, outfile, default_flow_style=True)"
      ],
      "metadata": {
        "id": "5tdjTR2ZPJ8F"
      },
      "execution_count": null,
      "outputs": []
    },
    {
      "cell_type": "markdown",
      "source": [
        "Build a new model from scratch"
      ],
      "metadata": {
        "id": "bKPp2rL0yeBg"
      }
    },
    {
      "cell_type": "code",
      "source": [
        "model = YOLO(f'yolov8n.yaml')\n",
        "model_name = \"Normal\""
      ],
      "metadata": {
        "id": "1Kv_UkOp4KDU"
      },
      "execution_count": null,
      "outputs": []
    },
    {
      "cell_type": "code",
      "source": [
        "model = YOLO(f'yolov8n-CBAM.yaml')\n",
        "model_name = \"CBAM\""
      ],
      "metadata": {
        "id": "jTdojki0ymAf"
      },
      "execution_count": null,
      "outputs": []
    },
    {
      "cell_type": "code",
      "source": [
        "model = YOLO(f'yolov8n-SPD.yaml')\n",
        "model_name = \"SPD\""
      ],
      "metadata": {
        "id": "Fe8TZXUam6I1"
      },
      "execution_count": null,
      "outputs": []
    },
    {
      "cell_type": "code",
      "source": [
        "model = YOLO(f'yolov8n-SPD-CBAM.yaml')\n",
        "model_name = \"SPD-CBAM\""
      ],
      "metadata": {
        "id": "_857UmCdmBeU"
      },
      "execution_count": null,
      "outputs": []
    },
    {
      "cell_type": "code",
      "source": [
        "model = YOLO(f'yolov8n-P2.yaml')\n",
        "model_name = \"Mult-Head\""
      ],
      "metadata": {
        "id": "QLcFWC4tXuJF"
      },
      "execution_count": null,
      "outputs": []
    },
    {
      "cell_type": "code",
      "source": [
        "model = YOLO(f'yolov8n-SPD-P2.yaml')\n",
        "model_name = \"Mult-Head-SPD\""
      ],
      "metadata": {
        "id": "ZLN3D8gPDjhN"
      },
      "execution_count": null,
      "outputs": []
    },
    {
      "cell_type": "code",
      "source": [
        "model = YOLO(f'yolov8n-CBAM-P2.yaml')\n",
        "model_name = \"CBAM-P2\""
      ],
      "metadata": {
        "id": "g0liuwtvYTZY"
      },
      "execution_count": null,
      "outputs": []
    },
    {
      "cell_type": "code",
      "source": [
        "model = YOLO(f'yolov8n-SPD-CBAM-P2.yaml')\n",
        "model_name = \"SPD-CBAM-P2\""
      ],
      "metadata": {
        "id": "Lp5nUfTPAkd7"
      },
      "execution_count": null,
      "outputs": []
    },
    {
      "cell_type": "markdown",
      "source": [
        "Load the model."
      ],
      "metadata": {
        "id": "fDnXXUJl9nQz"
      }
    },
    {
      "cell_type": "code",
      "execution_count": null,
      "metadata": {
        "id": "Rx9NWF-sVN6Y"
      },
      "outputs": [],
      "source": [
        "model_weight_path = f'{HOME}\\small_grabage\\{model_name}\\weights\\last.pt'\n",
        "\n",
        "model = YOLO(model_weight_path)\n",
        "print(model)"
      ]
    },
    {
      "cell_type": "markdown",
      "metadata": {
        "id": "YUjFBKKqXa-u"
      },
      "source": [
        "## Custom Training"
      ]
    },
    {
      "cell_type": "code",
      "source": [
        "!python -m tensorboard.main --logdir='small_grabage/'"
      ],
      "metadata": {
        "id": "5VpKyaniVC9D"
      },
      "execution_count": null,
      "outputs": []
    },
    {
      "cell_type": "code",
      "source": [
        "project_name = \"small_grabage\"\n",
        "dataset_location = \"D:\\Document\\Study\\SFU\\CMPT732\\YOLOv8-SmallObj-Garbage\\datasets\\TACO-2\"\n",
        "# !yolo task=detect mode=train model=yolov8x.pt data=data.yaml epochs=5 imgsz=400 plots=True"
      ],
      "metadata": {
        "id": "27ax9FmvIxst"
      },
      "execution_count": null,
      "outputs": []
    },
    {
      "cell_type": "code",
      "execution_count": null,
      "metadata": {
        "id": "D2YkphuiaE7_"
      },
      "outputs": [],
      "source": [
        "resume = True\n",
        "results = model.train(data='data.yaml', epochs=1000, imgsz=256,batch=16,workers=8,project=project_name,name=model_name,resume=resume)"
      ]
    },
    {
      "cell_type": "markdown",
      "metadata": {
        "id": "6ODk1VTlevxn"
      },
      "source": [
        "## Validate Custom Model"
      ]
    },
    {
      "cell_type": "code",
      "execution_count": null,
      "metadata": {
        "id": "YpyuwrNlXc1P"
      },
      "outputs": [],
      "source": [
        "%cd {HOME}\n",
        "model.val()"
      ]
    },
    {
      "cell_type": "code",
      "source": [
        "model.export()"
      ],
      "metadata": {
        "id": "iFn93ZaMn-vy"
      },
      "execution_count": null,
      "outputs": []
    },
    {
      "cell_type": "code",
      "source": [
        "model.info()"
      ],
      "metadata": {
        "colab": {
          "base_uri": "https://localhost:8080/"
        },
        "id": "gAkbkiDmbNDu",
        "outputId": "120d0700-c670-45c0-cda9-4b1406a8cab0"
      },
      "execution_count": null,
      "outputs": [
        {
          "output_type": "stream",
          "name": "stderr",
          "text": [
            "YOLOv8n-SPD-CBAM-P2 summary (fused): 235 layers, 3719738 parameters, 0 gradients, 69.0 GFLOPs\n"
          ]
        },
        {
          "output_type": "execute_result",
          "data": {
            "text/plain": [
              "(235, 3719738, 0, 68.9879616)"
            ]
          },
          "metadata": {},
          "execution_count": 10
        }
      ]
    },
    {
      "cell_type": "markdown",
      "metadata": {
        "id": "i4eASbcWkQBq"
      },
      "source": [
        "## Inference with Custom Model"
      ]
    },
    {
      "cell_type": "code",
      "source": [
        "source_image_path = f\"{dataset_location}//test//images\""
      ],
      "metadata": {
        "id": "bXkRb_3OFtxv"
      },
      "execution_count": null,
      "outputs": []
    },
    {
      "cell_type": "code",
      "source": [
        "results = model.predict(source=source_image_path,save=True,save_dir=f'{HOME}\\results\\\\{model_name}') # Display preds. Accepts all YOLO predict arguments"
      ],
      "metadata": {
        "id": "GDMbDbxxGq9B"
      },
      "execution_count": null,
      "outputs": []
    },
    {
      "cell_type": "markdown",
      "metadata": {
        "id": "mEYIo95n-I0S"
      },
      "source": [
        "**NOTE:** Let's take a look at few results."
      ]
    },
    {
      "cell_type": "code",
      "execution_count": null,
      "metadata": {
        "id": "jbVjEtPAkz3j"
      },
      "outputs": [],
      "source": [
        "import glob\n",
        "from IPython.display import Image, display\n",
        "\n",
        "for image_path in glob.glob(f'{HOME}/runs/detect/predict/*.jpg')[3:5]:\n",
        "      display(Image(filename=image_path, width=600))\n",
        "      print(\"\\n\")"
      ]
    },
    {
      "cell_type": "markdown",
      "source": [
        "## SAHI Framework\n",
        "### Import required modules:\n"
      ],
      "metadata": {
        "id": "LTAEMZfvEgOF"
      }
    },
    {
      "cell_type": "code",
      "source": [
        "from sahi import AutoDetectionModel\n",
        "from sahi.utils.cv import read_image\n",
        "from sahi.utils.file import download_from_url\n",
        "from sahi.predict import get_prediction, get_sliced_prediction, predict"
      ],
      "metadata": {
        "id": "GqSKAWcOEorj"
      },
      "execution_count": null,
      "outputs": []
    },
    {
      "cell_type": "markdown",
      "source": [
        "Set model and directory parameters:"
      ],
      "metadata": {
        "id": "QynkBv3QFQYh"
      }
    },
    {
      "cell_type": "code",
      "source": [
        "model_type = \"yolov8\"\n",
        "model_path = model_weight_path\n",
        "model_device = \"cudo:0\" # or 'cuda:0'\n",
        "model_confidence_threshold = 0.2\n",
        "\n",
        "slice_height = 256\n",
        "slice_width = 256\n",
        "overlap_height_ratio = 0.7\n",
        "overlap_width_ratio = 0.7"
      ],
      "metadata": {
        "id": "AwK3GB7XFrsu"
      },
      "execution_count": null,
      "outputs": []
    },
    {
      "cell_type": "markdown",
      "source": [
        "Perform sliced inference on given folder:\n"
      ],
      "metadata": {
        "id": "Xy6-rhXVJmhQ"
      }
    },
    {
      "cell_type": "code",
      "source": [
        "model_name_list = [\n",
        "    #\"Baseline\",\"Baseline-P2\",  \"SPD\",\"SPD-P2\", \"CBAM\",\"CBAM-P2\",\"SPD-CBAM\",    \"SPD-CBAM-P2\"]\n",
        "    \"SPD-CBAM-P2\",\n",
        "    \"SPD-CBAM\",\n",
        "    \"SPD\",\n",
        "    \"SPD-P2\",\n",
        "    \"CBAM\",\n",
        "    \"CBAM-P2\",\n",
        "    \"Baseline\",\n",
        "    \"Baseline-P2\"\n",
        "]\n",
        "\n",
        "for model_name in model_name_list:\n",
        "  model_weight_path = f'{HOME}\\\\small_grabage\\\\{model_name}\\\\weights\\\\best.pt'\n",
        "  # print(model_weight_path)\n",
        "  model = YOLO(model_weight_path)\n",
        "\n",
        "  model.info()\n",
        "  # model.predict(source=source_image_path,save=True,save_dir=f'{HOME}\\results\\\\{model_name}') # Display preds. Accepts all YOLO predict arguments\n",
        "\n",
        "  # predict(\n",
        "  #     model_type=model_type,\n",
        "  #     model_path=model_weight_path,\n",
        "  #     model_device=model_device,\n",
        "  #     model_confidence_threshold=model_confidence_threshold,\n",
        "  #     source=source_image_path,\n",
        "  #     slice_height=slice_height,\n",
        "  #     slice_width=slice_width,\n",
        "  #     overlap_height_ratio=overlap_height_ratio,\n",
        "  #     overlap_width_ratio=overlap_width_ratio,\n",
        "  # )"
      ],
      "metadata": {
        "id": "8K0w_r7gJkW-"
      },
      "execution_count": null,
      "outputs": []
    },
    {
      "cell_type": "code",
      "source": [
        "runs_path = f\"{HOME}\\\\runs\\\\detect\"\n",
        "model_name_list = [\"Baseline\",\"Baseline-P2\",  \"SPD\",\"SPD-P2\", \"CBAM\",\"CBAM-P2\",\"SPD-CBAM\",    \"SPD-CBAM-P2\"]\n",
        "dir_list = []\n",
        "for dir in os.listdir(runs_path):\n",
        "        dir = os.path.join(runs_path, dir)\n",
        "        if(dir.split('predict')[-1]==\"\"):\n",
        "          path111 = os.path.join(dir.split('predict')[0],\"predict1\")\n",
        "          os.rename(dir,path111)\n",
        "        if os.path.isdir(dir):\n",
        "          dir_list.append(dir)\n",
        "dir_list.sort(key=lambda x: int(x.split('predict')[-1]))\n",
        "\n",
        "if len(model_name_list) != len(dir_list):\n",
        "    print(\"Error: The number of model names does not match the number of directories.\")\n",
        "else:\n",
        "    for i, dir in enumerate(dir_list):\n",
        "        new_name = os.path.join(runs_path, model_name_list[i])\n",
        "        os.rename(dir, new_name)\n",
        "\n",
        "        print(f\"Renamed {dir} to {new_name}\")"
      ],
      "metadata": {
        "id": "Cv0IYFiFAQ9T"
      },
      "execution_count": null,
      "outputs": []
    },
    {
      "cell_type": "code",
      "source": [
        "runs_path = f\"{HOME}\\\\runs\\\\predict\"\n",
        "model_name_list = [\"Baseline\",\"Baseline-P2\",  \"SPD\",\"SPD-P2\", \"CBAM\",\"CBAM-P2\",\"SPD-CBAM\",    \"SPD-CBAM-P2\"]\n",
        "dir_list = []\n",
        "for dir in os.listdir(runs_path):\n",
        "        dir = os.path.join(runs_path, dir)\n",
        "        if(dir.split('exp')[-1]==\"\"):\n",
        "          path111 = os.path.join(dir.split('exp')[0],\"exp1\")\n",
        "          os.rename(dir,path111)\n",
        "        if os.path.isdir(dir):\n",
        "          dir_list.append(dir)\n",
        "dir_list.sort(key=lambda x: int(x.split('exp')[-1]))\n",
        "\n",
        "if len(model_name_list) != len(dir_list):\n",
        "    print(\"Error: The number of model names does not match the number of directories.\")\n",
        "else:\n",
        "    for i, dir in enumerate(dir_list):\n",
        "        new_name = os.path.join(runs_path, \"SAHI_\"+model_name_list[i])\n",
        "        os.rename(dir, new_name)\n",
        "\n",
        "        print(f\"Renamed {dir} to {new_name}\")"
      ],
      "metadata": {
        "id": "ZZE41a_eowT9"
      },
      "execution_count": null,
      "outputs": []
    },
    {
      "cell_type": "code",
      "source": [
        "from PIL import Image, ImageDraw, ImageFont\n",
        "\n",
        "\n",
        "\n",
        "model_name_list = [\n",
        "    \"Baseline\",\n",
        "    \"Baseline-P2\",\n",
        "    \"SAHI_Baseline\",\n",
        "    \"SAHI_Baseline-P2\",\n",
        "    \"SPD\",\n",
        "    \"SPD-P2\",\n",
        "    \"SAHI_SPD\",\n",
        "    \"SAHI_SPD-P2\",\n",
        "    \"CBAM\",\n",
        "    \"CBAM-P2\",\n",
        "    \"SAHI_CBAM\",\n",
        "    \"SAHI_CBAM-P2\",\n",
        "    \"SPD-CBAM\",\n",
        "    \"SPD-CBAM-P2\",\n",
        "    \"SAHI_SPD-CBAM\",\n",
        "    \"SAHI_SPD-CBAM-P2\",\n",
        "]\n",
        "\n",
        "No_P2 = [\n",
        "    \"Baseline\",\n",
        "    \"SPD\",\n",
        "    \"CBAM\",\n",
        "    \"SPD-CBAM\"\n",
        "]\n",
        "P2 = [\n",
        "    \"Baseline-P2\",\n",
        "    \"SPD-P2\",\n",
        "    \"CBAM-P2\",\n",
        "    \"SPD-CBAM-P2\"\n",
        "]\n",
        "SAHI_No_P2 = [\n",
        "    \"SAHI_Baseline\",\n",
        "    \"SAHI_SPD\",\n",
        "    \"SAHI_CBAM\",\n",
        "    \"SAHI_SPD-CBAM\"\n",
        "]\n",
        "SAHI_P2 = [\n",
        "    \"SAHI_Baseline-P2\",\n",
        "    \"SAHI_SPD-P2\",\n",
        "    \"SAHI_CBAM-P2\",\n",
        "    \"SAHI_SPD-CBAM-P2\"\n",
        "]\n",
        "best_model = [\n",
        "    \"Baseline\",\n",
        "    \"Baseline-P2\",\n",
        "    \"SPD-CBAM\",\n",
        "    \"SPD-CBAM-P2\"\n",
        "    # \"SAHI_SPD-CBAM-P2\"\n",
        "]\n",
        "step = 3\n",
        "# folder_path_base = [f\"{HOME}\\\\runs\\\\detect\" ,f\"{HOME}\\\\runs\\\\predict\"]\n",
        "# output_path = \"No_P2_\"\n",
        "# combile_img(No_P2,folder_path_base,output_path,step)\n",
        "# output_path = \"P2_\"\n",
        "# combile_img(P2,folder_path_base,output_path,step)\n",
        "# output_path = \"SAHI_No_P2_\"\n",
        "# combile_img(SAHI_No_P2,folder_path_base,output_path,step)\n",
        "# output_path = \"SAHI_P2\"\n",
        "# combile_img(SAHI_P2,folder_path_base,output_path,step)\n",
        "output_path = \"best_model_No_SAHI\"\n",
        "combile_img(best_model,folder_path_base,output_path,step)"
      ],
      "metadata": {
        "id": "LT5kys78rCWY"
      },
      "execution_count": null,
      "outputs": []
    },
    {
      "cell_type": "markdown",
      "source": [
        "### combile img"
      ],
      "metadata": {
        "id": "NX2dDFjIEihk"
      }
    },
    {
      "cell_type": "code",
      "source": [
        "def combile_img(model_name_list,folder_path_base,output_path,num=4):\n",
        "    all_files = []\n",
        "    for model in model_name_list:\n",
        "        if model[0:4] == \"SAHI\":\n",
        "            folder_path = os.path.join(folder_path_base[1], model, \"visuals\")\n",
        "        else:\n",
        "            folder_path = os.path.join(folder_path_base[0], model)\n",
        "        files = sorted(os.listdir(folder_path))\n",
        "        all_files.append(files)\n",
        "\n",
        "    file_counts = [len(files) for files in all_files]\n",
        "    if len(set(file_counts)) != 1:\n",
        "        print(\"Folders do not contain the same number of files.\")\n",
        "    else:\n",
        "        for group_start in range(0, file_counts[0], num):\n",
        "            group_end = min(group_start + num, file_counts[0])\n",
        "\n",
        "            for i in range(group_start, group_end):\n",
        "                group_images = []\n",
        "\n",
        "                for j, model in enumerate(model_name_list):\n",
        "                    images = []\n",
        "                    for k in range(group_start, min(group_end, len(all_files[j]))):\n",
        "                        file_name = all_files[j][k]\n",
        "                        if model[0:4] == \"SAHI\":\n",
        "                            image_path = os.path.join(\n",
        "                                folder_path_base[1], model, \"visuals\", file_name\n",
        "                            )\n",
        "                        else:\n",
        "                            image_path = os.path.join(\n",
        "                                folder_path_base[0], model, file_name\n",
        "                            )\n",
        "\n",
        "                        if os.path.exists(image_path):\n",
        "                            img = Image.open(image_path)\n",
        "                            if k == group_start:\n",
        "                                font = ImageFont.truetype(\"arial.ttf\", 40)\n",
        "\n",
        "                                text = model\n",
        "                                d = ImageDraw.Draw(img)\n",
        "                                text_width, text_height = d.textsize(text, font=font)\n",
        "                                text_bar_height = text_height + 40\n",
        "                                text_bar = Image.new(\n",
        "                                    \"RGB\", (img.width, text_bar_height), (255, 255, 255)\n",
        "                                )\n",
        "                                d = ImageDraw.Draw(text_bar)\n",
        "                                text_x = (img.width - text_width) / 2\n",
        "                                d.text((text_x, 10), text, fill=(0, 0, 0), font=font)\n",
        "\n",
        "                                total_height = img.height + text_bar_height\n",
        "                                combined = Image.new(\"RGB\", (img.width, total_height))\n",
        "                                combined.paste(text_bar, (0, 0))\n",
        "                                combined.paste(img, (0, text_bar_height))\n",
        "                            else:\n",
        "                                combined = img\n",
        "                            images.append(combined)\n",
        "                        else:\n",
        "                            print(f\"Image not found: {image_path}\")\n",
        "                            break\n",
        "\n",
        "                    if len(images) == (group_end - group_start):\n",
        "                        total_height = sum(img.height for img in images)\n",
        "                        max_width = max(img.width for img in images)\n",
        "                        new_im = Image.new(\"RGB\", (max_width, total_height))\n",
        "\n",
        "                        y_offset = 0\n",
        "                        for im in images:\n",
        "                            new_im.paste(im, (0, y_offset))\n",
        "                            y_offset += im.height\n",
        "\n",
        "                        group_images.append(new_im)\n",
        "\n",
        "                if len(group_images) == len(model_name_list):\n",
        "                    total_width = sum(img.width for img in group_images)\n",
        "                    max_height = max(img.height for img in group_images)\n",
        "                    final_im = Image.new(\"RGB\", (total_width, max_height))\n",
        "\n",
        "                    x_offset = 0\n",
        "                    for im in group_images:\n",
        "                        final_im.paste(im, (x_offset, 0))\n",
        "                        x_offset += im.width\n",
        "\n",
        "\n",
        "                    final_im.save(f\"{output_path}_{group_start}.jpg\")\n"
      ],
      "metadata": {
        "id": "PFzgsw6mD9ZB"
      },
      "execution_count": null,
      "outputs": []
    }
  ],
  "metadata": {
    "accelerator": "GPU",
    "colab": {
      "provenance": [],
      "toc_visible": true
    },
    "gpuClass": "standard",
    "kernelspec": {
      "display_name": "Python 3",
      "name": "python3"
    },
    "language_info": {
      "name": "python"
    }
  },
  "nbformat": 4,
  "nbformat_minor": 0
}